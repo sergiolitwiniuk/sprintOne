{
 "cells": [
  {
   "cell_type": "markdown",
   "id": "ae010f33-c6b5-475d-acd5-d37df011a5bd",
   "metadata": {
    "id": "ae010f33-c6b5-475d-acd5-d37df011a5bd",
    "tags": []
   },
   "source": [
    "# AnyoneAI - Project I\n",
    "\n",
    "# An analysis of NBA players in the 2021/2022 season"
   ]
  },
  {
   "cell_type": "markdown",
   "id": "feb5643a-e69d-45d5-8143-67e7cac8db62",
   "metadata": {
    "id": "feb5643a-e69d-45d5-8143-67e7cac8db62"
   },
   "source": [
    "Hi! this is the first of several projects we're going to be working on during this course. \n",
    "You will be expected to finish this on your own, but you can use the available channels on Discord to ask questions and help others. Please read the entire notebook before starting, this will give you a better idea of what you need to accomplish.\n",
    "\n",
    "This project will rely heavily in the use of API as data sources. Contrary to most machine learning challenges and competitions, working in the industry usually requires the ML Developer to work with multiple teams and use heterogeneous sources of information to get the necessary data to solve a particular problem. Access to data is often provided through application programming interfaces (APIs), whether internal or external to the organization. It is very important to understand how to interact with APIs to collect data in our day to day work.\n",
    "\n",
    "You might be wondering: why basketball? The main reason is availability of data.\n",
    "\n",
    "The sport is played at a fast pace, with hundreds of plays in each single game, thousands of games in a season, and with a relatively small amount of on-court players, which gives them a lot of interactions with the ball, which in turn provides an oportunity to collect a great amount of data about each player performance."
   ]
  },
  {
   "cell_type": "markdown",
   "id": "01778870-2619-4f79-a9a9-39e5d368cc18",
   "metadata": {
    "id": "01778870-2619-4f79-a9a9-39e5d368cc18"
   },
   "source": [
    "These are the objectives of the project:\n",
    "- Understanding how to query an API to create a dataset with Python and Pandas\n",
    "- Learning how to cleanup a dataset and generate new fields from calculated data\n",
    "- Storing the created dataset in a serialized manner\n",
    "- Generating statistics about the data\n",
    "- Visualizing data"
   ]
  },
  {
   "cell_type": "markdown",
   "id": "67f24c7c-0f5e-4e1e-afe9-d7a1a99665f5",
   "metadata": {
    "id": "67f24c7c-0f5e-4e1e-afe9-d7a1a99665f5"
   },
   "source": [
    "## Introduction"
   ]
  },
  {
   "cell_type": "markdown",
   "id": "efb6e67d-55c9-4af3-9f9b-ca503be01355",
   "metadata": {
    "id": "efb6e67d-55c9-4af3-9f9b-ca503be01355"
   },
   "source": [
    "### A brief description of basketball and the NBA"
   ]
  },
  {
   "cell_type": "markdown",
   "id": "7d6da412-3b11-4541-9165-b4eea8570c3e",
   "metadata": {
    "id": "7d6da412-3b11-4541-9165-b4eea8570c3e"
   },
   "source": [
    "The National Basketball Association is the main basketball league in the United States of America. It currently features 30 teams from different cities, divided in 2 conferences (East and West) of 15 teams. Each team plays a total of 82 games during the regular season. After that, the 8 teams with better records from each conference are seeded in a playoff format, with the winner of each conference playing the finals to determine the eventual champion. NBA seasons usually play out between october of one year, to june of the next year, so for example the current season being played is called the 2021/2022 season.\n",
    "\n",
    "As in most leagues in the world, the game is played 5 vs 5 players, with as many as 9 reserve players that can rotate with the starters as many times as the team wants. Games are played to 48 minutes, so the total amount of minutes of combined play time for any team in a single game with no added time is 240 minutes. If the score is tied at the end of the 48 minutes, 5 minutes of extra time are played, this continues until a winner is decided.\n",
    "\n",
    "Even though they can play multiple positions, players are usually classified according to the following positions:\n",
    "\n",
    "- Guards\n",
    "    - Point Guards\n",
    "    - Shooting Guards\n",
    "- Forwards\n",
    "    - Small Forwards\n",
    "    - Power Forwards\n",
    "- Centers\n",
    "\n",
    "We will mainly focus on the three main positions: Guards/Forwards/Centers"
   ]
  },
  {
   "cell_type": "markdown",
   "id": "6cfdce7d-d6c4-4fb4-8906-4fbca324ab45",
   "metadata": {
    "id": "6cfdce7d-d6c4-4fb4-8906-4fbca324ab45"
   },
   "source": [
    "### The dataset"
   ]
  },
  {
   "cell_type": "markdown",
   "id": "06cbbd6b-4588-4991-890d-c0cdc4240e0a",
   "metadata": {
    "id": "06cbbd6b-4588-4991-890d-c0cdc4240e0a"
   },
   "source": [
    "You'll be in charge of creating our dataset. We want to create a single pandas dataframe with information about all active players in the current NBA season. \n",
    "The dataset needs to have the following structure:\n",
    "\n",
    "- Personal Information\n",
    "    - player_id (int) (INDEX) \n",
    "    - player_name (str)\n",
    "    - team_name (str)\n",
    "    - position (str)\n",
    "    - height (int) (in centimeters) \n",
    "    - weight (float) (in kilograms)\n",
    "    - country of origin (str)\n",
    "    - date_of_birth (datetime)\n",
    "    - age (str) (years and months)\n",
    "    - years_of_experience (int) (years since entering the league)\n",
    "    - Draft position (int)\n",
    "- Player career statistics\n",
    "    - games played (int)\n",
    "    - minutes per game (float)\n",
    "    - points per game (float)\n",
    "    - rebounds per game (float)\n",
    "    - assists per game (float)\n",
    "    - steals per game (float)\n",
    "    - blocks per game (float)\n",
    "- Misc\n",
    "    - salary in dollars (int) (contract value for this season only)\n",
    "    - next_game_date (datetime)"
   ]
  },
  {
   "cell_type": "markdown",
   "id": "a8549d4d-6773-4eaf-939e-7dd96b16d656",
   "metadata": {
    "id": "a8549d4d-6773-4eaf-939e-7dd96b16d656"
   },
   "source": [
    "Here is a sample of how the final result should look like:"
   ]
  },
  {
   "cell_type": "code",
   "execution_count": null,
   "id": "4d6d7c9f-2030-42d0-87ac-017dbe6a7d19",
   "metadata": {
    "id": "4d6d7c9f-2030-42d0-87ac-017dbe6a7d19",
    "outputId": "01fb82a3-319b-4a67-a2b8-b090335d0aa3"
   },
   "outputs": [
    {
     "data": {
      "text/html": [
       "<div>\n",
       "<style scoped>\n",
       "    .dataframe tbody tr th:only-of-type {\n",
       "        vertical-align: middle;\n",
       "    }\n",
       "\n",
       "    .dataframe tbody tr th {\n",
       "        vertical-align: top;\n",
       "    }\n",
       "\n",
       "    .dataframe thead th {\n",
       "        text-align: right;\n",
       "    }\n",
       "</style>\n",
       "<table border=\"1\" class=\"dataframe\">\n",
       "  <thead>\n",
       "    <tr style=\"text-align: right;\">\n",
       "      <th></th>\n",
       "      <th>PLAYER_NAME</th>\n",
       "      <th>TEAM_NAME</th>\n",
       "      <th>POSITION</th>\n",
       "      <th>HEIGHT</th>\n",
       "      <th>WEIGHT</th>\n",
       "      <th>COUNTRY</th>\n",
       "      <th>BIRTHDATE</th>\n",
       "      <th>SEASON_EXP</th>\n",
       "      <th>DRAFT_NUMBER</th>\n",
       "      <th>GP</th>\n",
       "      <th>MIN</th>\n",
       "      <th>PTS</th>\n",
       "      <th>REB</th>\n",
       "      <th>AST</th>\n",
       "      <th>STL</th>\n",
       "      <th>BLK</th>\n",
       "      <th>GAME_DATE</th>\n",
       "      <th>SALARY</th>\n",
       "      <th>AGE</th>\n",
       "    </tr>\n",
       "  </thead>\n",
       "  <tbody>\n",
       "    <tr>\n",
       "      <th>200765</th>\n",
       "      <td>Rajon Rondo</td>\n",
       "      <td>Cavaliers</td>\n",
       "      <td>Guard</td>\n",
       "      <td>185</td>\n",
       "      <td>82</td>\n",
       "      <td>USA</td>\n",
       "      <td>1986-02-22</td>\n",
       "      <td>15</td>\n",
       "      <td>21</td>\n",
       "      <td>957</td>\n",
       "      <td>29.9</td>\n",
       "      <td>9.8</td>\n",
       "      <td>4.5</td>\n",
       "      <td>7.9</td>\n",
       "      <td>1.6</td>\n",
       "      <td>0.1</td>\n",
       "      <td>2022-04-10</td>\n",
       "      <td>2641691</td>\n",
       "      <td>36 years, 1 months, 19 days</td>\n",
       "    </tr>\n",
       "    <tr>\n",
       "      <th>203107</th>\n",
       "      <td>Tomas Satoransky</td>\n",
       "      <td>Wizards</td>\n",
       "      <td>Guard</td>\n",
       "      <td>201</td>\n",
       "      <td>95</td>\n",
       "      <td>Czech Republic</td>\n",
       "      <td>1991-10-30</td>\n",
       "      <td>5</td>\n",
       "      <td>32</td>\n",
       "      <td>388</td>\n",
       "      <td>22.2</td>\n",
       "      <td>6.9</td>\n",
       "      <td>2.9</td>\n",
       "      <td>4.1</td>\n",
       "      <td>0.8</td>\n",
       "      <td>0.2</td>\n",
       "      <td>2022-04-10</td>\n",
       "      <td>10468119</td>\n",
       "      <td>30 years, 5 months, 11 days</td>\n",
       "    </tr>\n",
       "    <tr>\n",
       "      <th>204060</th>\n",
       "      <td>Joe Ingles</td>\n",
       "      <td>Trail Blazers</td>\n",
       "      <td>Forward</td>\n",
       "      <td>203</td>\n",
       "      <td>100</td>\n",
       "      <td>Australia</td>\n",
       "      <td>1987-10-02</td>\n",
       "      <td>7</td>\n",
       "      <td>Undrafted</td>\n",
       "      <td>590</td>\n",
       "      <td>25.7</td>\n",
       "      <td>8.6</td>\n",
       "      <td>3.2</td>\n",
       "      <td>3.8</td>\n",
       "      <td>0.9</td>\n",
       "      <td>0.2</td>\n",
       "      <td>2022-04-10</td>\n",
       "      <td>14000000</td>\n",
       "      <td>34 years, 6 months, 8 days</td>\n",
       "    </tr>\n",
       "  </tbody>\n",
       "</table>\n",
       "</div>"
      ],
      "text/plain": [
       "             PLAYER_NAME      TEAM_NAME POSITION  HEIGHT  WEIGHT  \\\n",
       "200765       Rajon Rondo      Cavaliers    Guard     185      82   \n",
       "203107  Tomas Satoransky        Wizards    Guard     201      95   \n",
       "204060        Joe Ingles  Trail Blazers  Forward     203     100   \n",
       "\n",
       "               COUNTRY  BIRTHDATE  SEASON_EXP DRAFT_NUMBER   GP   MIN  PTS  \\\n",
       "200765             USA 1986-02-22          15           21  957  29.9  9.8   \n",
       "203107  Czech Republic 1991-10-30           5           32  388  22.2  6.9   \n",
       "204060       Australia 1987-10-02           7    Undrafted  590  25.7  8.6   \n",
       "\n",
       "        REB  AST  STL  BLK  GAME_DATE    SALARY                          AGE  \n",
       "200765  4.5  7.9  1.6  0.1 2022-04-10   2641691  36 years, 1 months, 19 days  \n",
       "203107  2.9  4.1  0.8  0.2 2022-04-10  10468119  30 years, 5 months, 11 days  \n",
       "204060  3.2  3.8  0.9  0.2 2022-04-10  14000000   34 years, 6 months, 8 days  "
      ]
     },
     "execution_count": 2,
     "metadata": {},
     "output_type": "execute_result"
    }
   ],
   "source": [
    "import pandas as pd\n",
    "\n",
    "sample_dict = {\n",
    "    'PLAYER_NAME': {200765: 'Rajon Rondo',  203107: 'Tomas Satoransky',  204060: 'Joe Ingles'},\n",
    "    'TEAM_NAME': {200765: 'Cavaliers', 203107: 'Wizards', 204060: 'Trail Blazers'},\n",
    "    'POSITION': {200765: 'Guard', 203107: 'Guard', 204060: 'Forward'},\n",
    "    'HEIGHT': {200765: 185, 203107: 201, 204060: 203},\n",
    "    'WEIGHT': {200765: 82, 203107: 95, 204060: 100},\n",
    "    'COUNTRY': {200765: 'USA', 203107: 'Czech Republic', 204060: 'Australia'},\n",
    "    'BIRTHDATE': {200765: pd.Timestamp('1986-02-22 00:00:00'), 203107: pd.Timestamp('1991-10-30 00:00:00'), 204060: pd.Timestamp('1987-10-02 00:00:00')},\n",
    "    'SEASON_EXP': {200765: 15, 203107: 5, 204060: 7},\n",
    "    'DRAFT_NUMBER': {200765: '21', 203107: '32', 204060: 'Undrafted'},\n",
    "    'GP': {200765: 957, 203107: 388, 204060: 590},\n",
    "    'MIN': {200765: 29.9, 203107: 22.2, 204060: 25.7},\n",
    "    'PTS': {200765: 9.8, 203107: 6.9, 204060: 8.6},\n",
    "    'REB': {200765: 4.5, 203107: 2.9, 204060: 3.2},\n",
    "    'AST': {200765: 7.9, 203107: 4.1, 204060: 3.8},\n",
    "    'STL': {200765: 1.6, 203107: 0.8, 204060: 0.9},\n",
    "    'BLK': {200765: 0.1, 203107: 0.2, 204060: 0.2},\n",
    "    'GAME_DATE': {200765: pd.Timestamp('2022-04-10 00:00:00'), 203107: pd.Timestamp('2022-04-10 00:00:00'), 204060: pd.Timestamp('2022-04-10 00:00:00')},\n",
    "    'SALARY': {200765: 2641691, 203107: 10468119, 204060: 14000000},\n",
    "    'AGE': {200765: '36 years, 1 months, 19 days', 203107: '30 years, 5 months, 11 days', 204060: '34 years, 6 months, 8 days'}\n",
    "}\n",
    "pd.DataFrame(sample_dict)"
   ]
  },
  {
   "cell_type": "markdown",
   "id": "2f6e860b-d366-4198-b74e-805fcc7bce6c",
   "metadata": {
    "id": "2f6e860b-d366-4198-b74e-805fcc7bce6c"
   },
   "source": [
    "## Collecting information for building our dataset"
   ]
  },
  {
   "cell_type": "markdown",
   "id": "54f9b97d-32f9-4ee1-830c-724d28b85833",
   "metadata": {
    "id": "54f9b97d-32f9-4ee1-830c-724d28b85833"
   },
   "source": [
    "In this section, we're only going to work on collecting the necessary raw data to build the required dataset. Don't worry about finishing everything here, we'll generate the appropiate fields and merge the data into a single dataframe in the next section.\n",
    "\n",
    "To get the information, you can use any public and free API you can find, but you have to provide the code that gets the information here. We recommend using this API:\n",
    " \n",
    "- https://github.com/swar/nba_api\n",
    "\n",
    "    This is a Python library that can be used to obtain data from stats.nba.com, it provides a set of methods that abstracts you from making the http calls, but directly makes calls to nba stats page and parses the results. [Here](https://github.com/swar/nba_api/blob/master/docs/examples/Basics.ipynb) are a couple of examples on how to use it.\n",
    "    \n",
    "\n",
    "A few notes on data collection:\n",
    "\n",
    "- Start simple. Try to get all the required information for 1 player, read the APIs documentation carefuly, then think about how to use them to collect all players data. \n",
    "\n",
    "- Please bear in mind that the most public APIs have some kind of rate limit, so you have to be careful about iterating on data and making lots of requests in a short amount of time (a 1 second delay between calls to the api should be enough). Once you've collected what you needed, save it to file in order to retrieve it later without calling the API again.\n",
    "\n",
    "- A key consideration: we only want data about players that have played in the current season, so make sure to filter those out before collecting the rest of the information.\n",
    "\n",
    "- There is at least one piece of information you're not going to find in both of those APIs: the player contract information. Again you can decide to use any source, but we recommend using information provided [here](https://www.basketball-reference.com/contracts/players.html), as it lets you export the data as a csv.  "
   ]
  },
  {
   "cell_type": "markdown",
   "id": "ae032907-b133-4cf8-8026-85f853755e46",
   "metadata": {
    "id": "ae032907-b133-4cf8-8026-85f853755e46"
   },
   "source": [
    "1- Create a function to find all ACTIVE players, meaning players that are listed with a team in the 2021/2022 season. For now you only need the player id, name, and team. Save the dataframe to a csv named \"nba_current_players_list.csv\". The function should return the dataframe."
   ]
  },
  {
   "cell_type": "markdown",
   "id": "ab2a86ef-3be9-42e2-a17d-111924c8ca2a",
   "metadata": {
    "id": "ab2a86ef-3be9-42e2-a17d-111924c8ca2a"
   },
   "source": [
    "Hint: you should find an API method that can give you a list of players in just one call, this way we can filter those players we're interested in, and later will make calls for each specific player."
   ]
  },
  {
   "cell_type": "markdown",
   "id": "b5e2138b-0640-4420-9ca3-dbbe4033620c",
   "metadata": {
    "id": "b5e2138b-0640-4420-9ca3-dbbe4033620c"
   },
   "source": [
    "Consider dropping: \n",
    "- All players with TEAM_ID == 0\n",
    "- All players with GAMES_PLAYED_FLAG == N\n",
    "- Player with id 1630597 (This guy is a problem ;))"
   ]
  },
  {
   "cell_type": "code",
   "execution_count": 5,
   "id": "3tQBXdlX2UJu",
   "metadata": {
    "colab": {
     "base_uri": "https://localhost:8080/"
    },
    "id": "3tQBXdlX2UJu",
    "outputId": "a134ff2f-6626-494c-9068-de92b1d7978b"
   },
   "outputs": [
    {
     "name": "stdout",
     "output_type": "stream",
     "text": [
      "Collecting nba_api\n",
      "  Downloading nba_api-1.1.11.tar.gz (125 kB)\n",
      "\u001b[?25l\r",
      "\u001b[K     |██▋                             | 10 kB 19.1 MB/s eta 0:00:01\r",
      "\u001b[K     |█████▏                          | 20 kB 11.7 MB/s eta 0:00:01\r",
      "\u001b[K     |███████▉                        | 30 kB 9.5 MB/s eta 0:00:01\r",
      "\u001b[K     |██████████▍                     | 40 kB 8.6 MB/s eta 0:00:01\r",
      "\u001b[K     |█████████████                   | 51 kB 4.3 MB/s eta 0:00:01\r",
      "\u001b[K     |███████████████▋                | 61 kB 5.1 MB/s eta 0:00:01\r",
      "\u001b[K     |██████████████████▎             | 71 kB 5.5 MB/s eta 0:00:01\r",
      "\u001b[K     |████████████████████▉           | 81 kB 5.7 MB/s eta 0:00:01\r",
      "\u001b[K     |███████████████████████▌        | 92 kB 6.4 MB/s eta 0:00:01\r",
      "\u001b[K     |██████████████████████████      | 102 kB 5.1 MB/s eta 0:00:01\r",
      "\u001b[K     |████████████████████████████▊   | 112 kB 5.1 MB/s eta 0:00:01\r",
      "\u001b[K     |███████████████████████████████▎| 122 kB 5.1 MB/s eta 0:00:01\r",
      "\u001b[K     |████████████████████████████████| 125 kB 5.1 MB/s \n",
      "\u001b[?25hRequirement already satisfied: requests in /usr/local/lib/python3.7/dist-packages (from nba_api) (2.23.0)\n",
      "Requirement already satisfied: idna<3,>=2.5 in /usr/local/lib/python3.7/dist-packages (from requests->nba_api) (2.10)\n",
      "Requirement already satisfied: chardet<4,>=3.0.2 in /usr/local/lib/python3.7/dist-packages (from requests->nba_api) (3.0.4)\n",
      "Requirement already satisfied: certifi>=2017.4.17 in /usr/local/lib/python3.7/dist-packages (from requests->nba_api) (2021.10.8)\n",
      "Requirement already satisfied: urllib3!=1.25.0,!=1.25.1,<1.26,>=1.21.1 in /usr/local/lib/python3.7/dist-packages (from requests->nba_api) (1.24.3)\n",
      "Building wheels for collected packages: nba-api\n",
      "  Building wheel for nba-api (setup.py) ... \u001b[?25l\u001b[?25hdone\n",
      "  Created wheel for nba-api: filename=nba_api-1.1.11-py3-none-any.whl size=251504 sha256=2ae1bbafab3b439fb4ffb69ab23cc49cc1e5c992e85f272f6e956ef204479208\n",
      "  Stored in directory: /root/.cache/pip/wheels/e3/f4/46/996128675381abc175e306642bae575d372dcf7efc4683e551\n",
      "Successfully built nba-api\n",
      "Installing collected packages: nba-api\n",
      "Successfully installed nba-api-1.1.11\n"
     ]
    }
   ],
   "source": [
    "pip install nba_api"
   ]
  },
  {
   "cell_type": "code",
   "execution_count": 3,
   "id": "2ce48cb6-3f35-4f62-a652-edc84f171010",
   "metadata": {
    "id": "2ce48cb6-3f35-4f62-a652-edc84f171010"
   },
   "outputs": [],
   "source": [
    "import numpy as np\n",
    "import pandas as pd\n",
    "import time\n",
    "from nba_api.stats.endpoints import playercareerstats, commonplayerinfo, commonallplayers, playerprofilev2\n",
    "\n",
    "\n",
    "### Complete in this cell: get all active players from the api\n",
    "\n",
    "def get_and_save_players_list():\n",
    "    \n",
    "    nba_players = commonallplayers.CommonAllPlayers(is_only_current_season=1)        #Retrieve all active players data from API\n",
    "\n",
    "    filter1 = (nba_players.get_data_frames()[0]['TEAM_ID'] != 0) ; filter2 = (nba_players.get_data_frames()[0]['GAMES_PLAYED_FLAG'] != \"N\") ; filter3 = (nba_players.get_data_frames()[0]['PERSON_ID'] != 1630597)   #Filter prerequisites Masks    \n",
    "    \n",
    "    nba_players = nba_players.get_data_frames()[0].loc[filter1 & filter2 & filter3]  #Apply Filtering\n",
    "\n",
    "    nba_players = nba_players.rename(columns={'PERSON_ID':'PLAYER_ID','DISPLAY_FIRST_LAST':'PLAYER_NAME'}) ; nba_players = nba_players.set_index('PLAYER_ID') ;  nba_players = nba_players[['PLAYER_NAME']]  #Rename Columns & setting player_id as index & Filter df\n",
    "\n",
    "    return nba_players\n"
   ]
  },
  {
   "cell_type": "code",
   "execution_count": 4,
   "id": "d1619cb8-d6cf-4645-b696-a351fac2f3a9",
   "metadata": {
    "colab": {
     "base_uri": "https://localhost:8080/",
     "height": 566
    },
    "id": "d1619cb8-d6cf-4645-b696-a351fac2f3a9",
    "outputId": "96c9dfa1-8381-42ca-ac38-6baf785ac7d3"
   },
   "outputs": [
    {
     "data": {
      "text/html": [
       "<div>\n",
       "<style scoped>\n",
       "    .dataframe tbody tr th:only-of-type {\n",
       "        vertical-align: middle;\n",
       "    }\n",
       "\n",
       "    .dataframe tbody tr th {\n",
       "        vertical-align: top;\n",
       "    }\n",
       "\n",
       "    .dataframe thead th {\n",
       "        text-align: right;\n",
       "    }\n",
       "</style>\n",
       "<table border=\"1\" class=\"dataframe\">\n",
       "  <thead>\n",
       "    <tr style=\"text-align: right;\">\n",
       "      <th></th>\n",
       "      <th>PLAYER_NAME</th>\n",
       "    </tr>\n",
       "    <tr>\n",
       "      <th>PLAYER_ID</th>\n",
       "      <th></th>\n",
       "    </tr>\n",
       "  </thead>\n",
       "  <tbody>\n",
       "    <tr>\n",
       "      <th>1630173</th>\n",
       "      <td>Precious Achiuwa</td>\n",
       "    </tr>\n",
       "    <tr>\n",
       "      <th>203500</th>\n",
       "      <td>Steven Adams</td>\n",
       "    </tr>\n",
       "    <tr>\n",
       "      <th>1628389</th>\n",
       "      <td>Bam Adebayo</td>\n",
       "    </tr>\n",
       "    <tr>\n",
       "      <th>1630583</th>\n",
       "      <td>Santi Aldama</td>\n",
       "    </tr>\n",
       "    <tr>\n",
       "      <th>200746</th>\n",
       "      <td>LaMarcus Aldridge</td>\n",
       "    </tr>\n",
       "    <tr>\n",
       "      <th>...</th>\n",
       "      <td>...</td>\n",
       "    </tr>\n",
       "    <tr>\n",
       "      <th>1628221</th>\n",
       "      <td>Gabe York</td>\n",
       "    </tr>\n",
       "    <tr>\n",
       "      <th>201152</th>\n",
       "      <td>Thaddeus Young</td>\n",
       "    </tr>\n",
       "    <tr>\n",
       "      <th>1629027</th>\n",
       "      <td>Trae Young</td>\n",
       "    </tr>\n",
       "    <tr>\n",
       "      <th>1630209</th>\n",
       "      <td>Omer Yurtseven</td>\n",
       "    </tr>\n",
       "    <tr>\n",
       "      <th>1627826</th>\n",
       "      <td>Ivica Zubac</td>\n",
       "    </tr>\n",
       "  </tbody>\n",
       "</table>\n",
       "<p>504 rows × 1 columns</p>\n",
       "</div>"
      ],
      "text/plain": [
       "                 PLAYER_NAME\n",
       "PLAYER_ID                   \n",
       "1630173     Precious Achiuwa\n",
       "203500          Steven Adams\n",
       "1628389          Bam Adebayo\n",
       "1630583         Santi Aldama\n",
       "200746     LaMarcus Aldridge\n",
       "...                      ...\n",
       "1628221            Gabe York\n",
       "201152        Thaddeus Young\n",
       "1629027           Trae Young\n",
       "1630209       Omer Yurtseven\n",
       "1627826          Ivica Zubac\n",
       "\n",
       "[504 rows x 1 columns]"
      ]
     },
     "execution_count": 4,
     "metadata": {},
     "output_type": "execute_result"
    }
   ],
   "source": [
    "current_players_list = get_and_save_players_list()\n",
    "current_players_list.to_csv(\"nba_current_players_list.csv\")\n",
    "current_players_list"
   ]
  },
  {
   "cell_type": "markdown",
   "id": "d8ea7729-4019-4d7e-9167-e412becbf215",
   "metadata": {
    "id": "d8ea7729-4019-4d7e-9167-e412becbf215"
   },
   "source": [
    "2- Create a function to find the personal information of all players listed in the dataframe created in the previous step, and save it to a csv file named \"nba_players_personal_info.csv\". The function should also return the created dataframe."
   ]
  },
  {
   "cell_type": "markdown",
   "id": "428bef6b-05d0-4a9a-82cd-71fa81837247",
   "metadata": {
    "id": "428bef6b-05d0-4a9a-82cd-71fa81837247"
   },
   "source": [
    "OPTIONAL: iterating on a list of players and making API calls can be complex and full of errors, try a code block that handles exceptions (for example a timeout from the API) and returns the partial result before it failed, you could also save the partial information to disk."
   ]
  },
  {
   "cell_type": "code",
   "execution_count": 5,
   "id": "541491d1-33eb-4277-afb5-ff449109f680",
   "metadata": {
    "colab": {
     "base_uri": "https://localhost:8080/",
     "height": 248
    },
    "id": "541491d1-33eb-4277-afb5-ff449109f680",
    "outputId": "186dd098-c706-42a3-e791-6b5c416781ae"
   },
   "outputs": [],
   "source": [
    "### Complete in this cell: Find players personal information (name, age, dob, etc), store the information in a CSV file.\n",
    "\n",
    "def sleepAndPrint(x):   \n",
    "    '''Sleep API call and show retrieving number'''\n",
    "    time.sleep(0.5)        \n",
    "    x += 1 \n",
    "    print(\"Retrieving player n°: {0}\".format(x), end = \"\\r\")\n",
    "    return x\n",
    "        \n",
    "def get_players_personal_information(current_players_list):\n",
    "    '''Retrieves personal information trough API'''\n",
    "    commonInfo = pd.DataFrame()\n",
    "    count=0\n",
    "    for y in current_players_list.index:   \n",
    "        commonInfo = commonInfo.append(commonplayerinfo.CommonPlayerInfo(player_id =str(y) ,timeout=30).get_data_frames()[0])\n",
    "        count = sleepAndPrint(count)\n",
    "    commonInfo = commonInfo[[\"PERSON_ID\",\"DISPLAY_FIRST_LAST\",\"TEAM_NAME\",\"POSITION\",\"HEIGHT\",\"WEIGHT\",\"COUNTRY\",\"BIRTHDATE\",\"DRAFT_NUMBER\"]]  ; commonInfo = commonInfo.rename(columns={'PERSON_ID':'PLAYER_ID','DISPLAY_FIRST_LAST':'PLAYER_NAME'}) ; commonInfo = commonInfo.set_index('PLAYER_ID') #Filter & rename & set playerId as index in dataframe\n",
    "        \n",
    "    return commonInfo\n"
   ]
  },
  {
   "cell_type": "code",
   "execution_count": 4,
   "id": "46deb328",
   "metadata": {
    "colab": {
     "base_uri": "https://localhost:8080/",
     "height": 174
    },
    "id": "c2V6mm8052Nt",
    "outputId": "74304988-166c-4d7c-8f58-497481c28f83"
   },
   "outputs": [
    {
     "name": "stdout",
     "output_type": "stream",
     "text": [
      "Retrieving player n°: 503\r"
     ]
    }
   ],
   "source": [
    "nba_players_personal_info = get_players_personal_information(current_players_list)\n",
    "nba_players_personal_info = nba_players_personal_info.to_csv(\"personal_player_information.csv\")\n"
   ]
  },
  {
   "cell_type": "code",
   "execution_count": 6,
   "id": "452ac152",
   "metadata": {},
   "outputs": [
    {
     "data": {
      "text/html": [
       "<div>\n",
       "<style scoped>\n",
       "    .dataframe tbody tr th:only-of-type {\n",
       "        vertical-align: middle;\n",
       "    }\n",
       "\n",
       "    .dataframe tbody tr th {\n",
       "        vertical-align: top;\n",
       "    }\n",
       "\n",
       "    .dataframe thead th {\n",
       "        text-align: right;\n",
       "    }\n",
       "</style>\n",
       "<table border=\"1\" class=\"dataframe\">\n",
       "  <thead>\n",
       "    <tr style=\"text-align: right;\">\n",
       "      <th></th>\n",
       "      <th>PLAYER_NAME</th>\n",
       "      <th>TEAM_NAME</th>\n",
       "      <th>POSITION</th>\n",
       "      <th>HEIGHT</th>\n",
       "      <th>WEIGHT</th>\n",
       "      <th>COUNTRY</th>\n",
       "      <th>BIRTHDATE</th>\n",
       "      <th>DRAFT_NUMBER</th>\n",
       "    </tr>\n",
       "    <tr>\n",
       "      <th>PLAYER_ID</th>\n",
       "      <th></th>\n",
       "      <th></th>\n",
       "      <th></th>\n",
       "      <th></th>\n",
       "      <th></th>\n",
       "      <th></th>\n",
       "      <th></th>\n",
       "      <th></th>\n",
       "    </tr>\n",
       "  </thead>\n",
       "  <tbody>\n",
       "    <tr>\n",
       "      <th>1630173</th>\n",
       "      <td>Precious Achiuwa</td>\n",
       "      <td>Raptors</td>\n",
       "      <td>Forward</td>\n",
       "      <td>6-8</td>\n",
       "      <td>225</td>\n",
       "      <td>Nigeria</td>\n",
       "      <td>1999-09-19T00:00:00</td>\n",
       "      <td>20</td>\n",
       "    </tr>\n",
       "    <tr>\n",
       "      <th>203500</th>\n",
       "      <td>Steven Adams</td>\n",
       "      <td>Grizzlies</td>\n",
       "      <td>Center</td>\n",
       "      <td>6-11</td>\n",
       "      <td>265</td>\n",
       "      <td>New Zealand</td>\n",
       "      <td>1993-07-20T00:00:00</td>\n",
       "      <td>12</td>\n",
       "    </tr>\n",
       "    <tr>\n",
       "      <th>1628389</th>\n",
       "      <td>Bam Adebayo</td>\n",
       "      <td>Heat</td>\n",
       "      <td>Center-Forward</td>\n",
       "      <td>6-9</td>\n",
       "      <td>255</td>\n",
       "      <td>USA</td>\n",
       "      <td>1997-07-18T00:00:00</td>\n",
       "      <td>14</td>\n",
       "    </tr>\n",
       "    <tr>\n",
       "      <th>1630583</th>\n",
       "      <td>Santi Aldama</td>\n",
       "      <td>Grizzlies</td>\n",
       "      <td>Forward-Center</td>\n",
       "      <td>6-11</td>\n",
       "      <td>215</td>\n",
       "      <td>Spain</td>\n",
       "      <td>2001-01-10T00:00:00</td>\n",
       "      <td>30</td>\n",
       "    </tr>\n",
       "    <tr>\n",
       "      <th>200746</th>\n",
       "      <td>LaMarcus Aldridge</td>\n",
       "      <td>Nets</td>\n",
       "      <td>Center-Forward</td>\n",
       "      <td>6-11</td>\n",
       "      <td>250</td>\n",
       "      <td>USA</td>\n",
       "      <td>1985-07-19T00:00:00</td>\n",
       "      <td>2</td>\n",
       "    </tr>\n",
       "    <tr>\n",
       "      <th>...</th>\n",
       "      <td>...</td>\n",
       "      <td>...</td>\n",
       "      <td>...</td>\n",
       "      <td>...</td>\n",
       "      <td>...</td>\n",
       "      <td>...</td>\n",
       "      <td>...</td>\n",
       "      <td>...</td>\n",
       "    </tr>\n",
       "    <tr>\n",
       "      <th>1628221</th>\n",
       "      <td>Gabe York</td>\n",
       "      <td>Pacers</td>\n",
       "      <td>Guard</td>\n",
       "      <td>6-3</td>\n",
       "      <td>190</td>\n",
       "      <td>USA</td>\n",
       "      <td>1993-08-02T00:00:00</td>\n",
       "      <td>Undrafted</td>\n",
       "    </tr>\n",
       "    <tr>\n",
       "      <th>201152</th>\n",
       "      <td>Thaddeus Young</td>\n",
       "      <td>Raptors</td>\n",
       "      <td>Forward</td>\n",
       "      <td>6-8</td>\n",
       "      <td>235</td>\n",
       "      <td>USA</td>\n",
       "      <td>1988-06-21T00:00:00</td>\n",
       "      <td>12</td>\n",
       "    </tr>\n",
       "    <tr>\n",
       "      <th>1629027</th>\n",
       "      <td>Trae Young</td>\n",
       "      <td>Hawks</td>\n",
       "      <td>Guard</td>\n",
       "      <td>6-1</td>\n",
       "      <td>164</td>\n",
       "      <td>USA</td>\n",
       "      <td>1998-09-19T00:00:00</td>\n",
       "      <td>5</td>\n",
       "    </tr>\n",
       "    <tr>\n",
       "      <th>1630209</th>\n",
       "      <td>Omer Yurtseven</td>\n",
       "      <td>Heat</td>\n",
       "      <td>Center</td>\n",
       "      <td>6-11</td>\n",
       "      <td>275</td>\n",
       "      <td>Turkey</td>\n",
       "      <td>1998-06-19T00:00:00</td>\n",
       "      <td>Undrafted</td>\n",
       "    </tr>\n",
       "    <tr>\n",
       "      <th>1627826</th>\n",
       "      <td>Ivica Zubac</td>\n",
       "      <td>Clippers</td>\n",
       "      <td>Center</td>\n",
       "      <td>7-0</td>\n",
       "      <td>240</td>\n",
       "      <td>Croatia</td>\n",
       "      <td>1997-03-18T00:00:00</td>\n",
       "      <td>32</td>\n",
       "    </tr>\n",
       "  </tbody>\n",
       "</table>\n",
       "<p>503 rows × 8 columns</p>\n",
       "</div>"
      ],
      "text/plain": [
       "                 PLAYER_NAME  TEAM_NAME        POSITION HEIGHT  WEIGHT  \\\n",
       "PLAYER_ID                                                                \n",
       "1630173     Precious Achiuwa    Raptors         Forward    6-8     225   \n",
       "203500          Steven Adams  Grizzlies          Center   6-11     265   \n",
       "1628389          Bam Adebayo       Heat  Center-Forward    6-9     255   \n",
       "1630583         Santi Aldama  Grizzlies  Forward-Center   6-11     215   \n",
       "200746     LaMarcus Aldridge       Nets  Center-Forward   6-11     250   \n",
       "...                      ...        ...             ...    ...     ...   \n",
       "1628221            Gabe York     Pacers           Guard    6-3     190   \n",
       "201152        Thaddeus Young    Raptors         Forward    6-8     235   \n",
       "1629027           Trae Young      Hawks           Guard    6-1     164   \n",
       "1630209       Omer Yurtseven       Heat          Center   6-11     275   \n",
       "1627826          Ivica Zubac   Clippers          Center    7-0     240   \n",
       "\n",
       "               COUNTRY            BIRTHDATE DRAFT_NUMBER  \n",
       "PLAYER_ID                                                 \n",
       "1630173        Nigeria  1999-09-19T00:00:00           20  \n",
       "203500     New Zealand  1993-07-20T00:00:00           12  \n",
       "1628389            USA  1997-07-18T00:00:00           14  \n",
       "1630583          Spain  2001-01-10T00:00:00           30  \n",
       "200746             USA  1985-07-19T00:00:00            2  \n",
       "...                ...                  ...          ...  \n",
       "1628221            USA  1993-08-02T00:00:00    Undrafted  \n",
       "201152             USA  1988-06-21T00:00:00           12  \n",
       "1629027            USA  1998-09-19T00:00:00            5  \n",
       "1630209         Turkey  1998-06-19T00:00:00    Undrafted  \n",
       "1627826        Croatia  1997-03-18T00:00:00           32  \n",
       "\n",
       "[503 rows x 8 columns]"
      ]
     },
     "execution_count": 6,
     "metadata": {},
     "output_type": "execute_result"
    }
   ],
   "source": [
    "## Read csv from disk, Filter and rename columns ##\n",
    "\n",
    "players_personal_info = pd.read_csv('personal_player_information.csv')\n",
    "players_personal_info = players_personal_info.set_index('PLAYER_ID')\n",
    "players_personal_info"
   ]
  },
  {
   "cell_type": "markdown",
   "id": "299218a4-1d90-4f55-822a-ec059474ea69",
   "metadata": {
    "id": "299218a4-1d90-4f55-822a-ec059474ea69"
   },
   "source": [
    "3- Create a function to find players career statistics, store the information in a CSV file called \"nba_players_career_stats.csv\""
   ]
  },
  {
   "cell_type": "code",
   "execution_count": 7,
   "id": "1b579e0d-6899-41ce-8f7f-d7e1e5f463c2",
   "metadata": {
    "id": "1b579e0d-6899-41ce-8f7f-d7e1e5f463c2"
   },
   "outputs": [],
   "source": [
    "### Complete in this cell: find players career stats, save to csv file\n",
    "\n",
    "def get_players_career_stats(current_players_list):\n",
    "    player_career_stats = pd.DataFrame()\n",
    "    count=0\n",
    "    for y in current_players_list.index:\n",
    "        player_career_stats = player_career_stats.append(playerprofilev2.PlayerProfileV2(per_mode36=\"PerGame\",player_id=str(y)).career_totals_regular_season.get_data_frame(),sort=False)  #pull data from endpoint & filter dataframe using playerID\n",
    "        count = sleepAndPrint(count)\n",
    "    player_career_stats = player_career_stats[[\"PLAYER_ID\", \"GP\", \"MIN\", \"PTS\", \"REB\", \"AST\", \"STL\", \"BLK\"]] ; player_career_stats = player_career_stats.set_index('PLAYER_ID') #Filter dataframes & set playerID as index                                      #setting player_id as index\n",
    "    return player_career_stats\n"
   ]
  },
  {
   "cell_type": "markdown",
   "id": "22f1b1cc",
   "metadata": {},
   "source": [
    "*Retriving data using API:"
   ]
  },
  {
   "cell_type": "code",
   "execution_count": 7,
   "id": "af100c14-2b06-4019-8a6a-6299f66da4df",
   "metadata": {
    "id": "af100c14-2b06-4019-8a6a-6299f66da4df"
   },
   "outputs": [
    {
     "name": "stdout",
     "output_type": "stream",
     "text": [
      "Retrieving player n°: 503\r"
     ]
    }
   ],
   "source": [
    "nba_players_career_stats = get_players_career_stats(current_players_list)\n",
    "nba_players_career_stats.to_csv(\"nba_players_career_stats.csv\")\n"
   ]
  },
  {
   "cell_type": "markdown",
   "id": "f7cba4f6",
   "metadata": {},
   "source": [
    "*Read csv nba_player_career_stats.csv from disk:"
   ]
  },
  {
   "cell_type": "code",
   "execution_count": 8,
   "id": "83bf5826",
   "metadata": {},
   "outputs": [
    {
     "data": {
      "text/html": [
       "<div>\n",
       "<style scoped>\n",
       "    .dataframe tbody tr th:only-of-type {\n",
       "        vertical-align: middle;\n",
       "    }\n",
       "\n",
       "    .dataframe tbody tr th {\n",
       "        vertical-align: top;\n",
       "    }\n",
       "\n",
       "    .dataframe thead th {\n",
       "        text-align: right;\n",
       "    }\n",
       "</style>\n",
       "<table border=\"1\" class=\"dataframe\">\n",
       "  <thead>\n",
       "    <tr style=\"text-align: right;\">\n",
       "      <th></th>\n",
       "      <th>GP</th>\n",
       "      <th>MIN</th>\n",
       "      <th>PTS</th>\n",
       "      <th>REB</th>\n",
       "      <th>AST</th>\n",
       "      <th>STL</th>\n",
       "      <th>BLK</th>\n",
       "    </tr>\n",
       "    <tr>\n",
       "      <th>PLAYER_ID</th>\n",
       "      <th></th>\n",
       "      <th></th>\n",
       "      <th></th>\n",
       "      <th></th>\n",
       "      <th></th>\n",
       "      <th></th>\n",
       "      <th></th>\n",
       "    </tr>\n",
       "  </thead>\n",
       "  <tbody>\n",
       "    <tr>\n",
       "      <th>1630173</th>\n",
       "      <td>134</td>\n",
       "      <td>18.4</td>\n",
       "      <td>7.2</td>\n",
       "      <td>5.1</td>\n",
       "      <td>0.8</td>\n",
       "      <td>0.4</td>\n",
       "      <td>0.5</td>\n",
       "    </tr>\n",
       "    <tr>\n",
       "      <th>203500</th>\n",
       "      <td>664</td>\n",
       "      <td>26.8</td>\n",
       "      <td>9.3</td>\n",
       "      <td>8.0</td>\n",
       "      <td>1.5</td>\n",
       "      <td>0.9</td>\n",
       "      <td>0.9</td>\n",
       "    </tr>\n",
       "    <tr>\n",
       "      <th>1628389</th>\n",
       "      <td>343</td>\n",
       "      <td>28.2</td>\n",
       "      <td>13.5</td>\n",
       "      <td>8.3</td>\n",
       "      <td>3.5</td>\n",
       "      <td>1.0</td>\n",
       "      <td>0.9</td>\n",
       "    </tr>\n",
       "    <tr>\n",
       "      <th>1630583</th>\n",
       "      <td>32</td>\n",
       "      <td>11.3</td>\n",
       "      <td>4.1</td>\n",
       "      <td>2.7</td>\n",
       "      <td>0.7</td>\n",
       "      <td>0.2</td>\n",
       "      <td>0.3</td>\n",
       "    </tr>\n",
       "    <tr>\n",
       "      <th>200746</th>\n",
       "      <td>1076</td>\n",
       "      <td>33.7</td>\n",
       "      <td>19.1</td>\n",
       "      <td>8.1</td>\n",
       "      <td>1.9</td>\n",
       "      <td>0.7</td>\n",
       "      <td>1.1</td>\n",
       "    </tr>\n",
       "    <tr>\n",
       "      <th>...</th>\n",
       "      <td>...</td>\n",
       "      <td>...</td>\n",
       "      <td>...</td>\n",
       "      <td>...</td>\n",
       "      <td>...</td>\n",
       "      <td>...</td>\n",
       "      <td>...</td>\n",
       "    </tr>\n",
       "    <tr>\n",
       "      <th>1628221</th>\n",
       "      <td>2</td>\n",
       "      <td>10.5</td>\n",
       "      <td>4.0</td>\n",
       "      <td>1.0</td>\n",
       "      <td>2.0</td>\n",
       "      <td>1.0</td>\n",
       "      <td>0.5</td>\n",
       "    </tr>\n",
       "    <tr>\n",
       "      <th>201152</th>\n",
       "      <td>1085</td>\n",
       "      <td>29.3</td>\n",
       "      <td>12.8</td>\n",
       "      <td>5.8</td>\n",
       "      <td>1.8</td>\n",
       "      <td>1.4</td>\n",
       "      <td>0.4</td>\n",
       "    </tr>\n",
       "    <tr>\n",
       "      <th>1629027</th>\n",
       "      <td>280</td>\n",
       "      <td>33.6</td>\n",
       "      <td>25.3</td>\n",
       "      <td>3.9</td>\n",
       "      <td>9.1</td>\n",
       "      <td>0.9</td>\n",
       "      <td>0.2</td>\n",
       "    </tr>\n",
       "    <tr>\n",
       "      <th>1630209</th>\n",
       "      <td>56</td>\n",
       "      <td>12.6</td>\n",
       "      <td>5.3</td>\n",
       "      <td>5.3</td>\n",
       "      <td>0.9</td>\n",
       "      <td>0.3</td>\n",
       "      <td>0.4</td>\n",
       "    </tr>\n",
       "    <tr>\n",
       "      <th>1627826</th>\n",
       "      <td>360</td>\n",
       "      <td>19.0</td>\n",
       "      <td>8.3</td>\n",
       "      <td>6.5</td>\n",
       "      <td>1.1</td>\n",
       "      <td>0.3</td>\n",
       "      <td>0.8</td>\n",
       "    </tr>\n",
       "  </tbody>\n",
       "</table>\n",
       "<p>503 rows × 7 columns</p>\n",
       "</div>"
      ],
      "text/plain": [
       "             GP   MIN   PTS  REB  AST  STL  BLK\n",
       "PLAYER_ID                                      \n",
       "1630173     134  18.4   7.2  5.1  0.8  0.4  0.5\n",
       "203500      664  26.8   9.3  8.0  1.5  0.9  0.9\n",
       "1628389     343  28.2  13.5  8.3  3.5  1.0  0.9\n",
       "1630583      32  11.3   4.1  2.7  0.7  0.2  0.3\n",
       "200746     1076  33.7  19.1  8.1  1.9  0.7  1.1\n",
       "...         ...   ...   ...  ...  ...  ...  ...\n",
       "1628221       2  10.5   4.0  1.0  2.0  1.0  0.5\n",
       "201152     1085  29.3  12.8  5.8  1.8  1.4  0.4\n",
       "1629027     280  33.6  25.3  3.9  9.1  0.9  0.2\n",
       "1630209      56  12.6   5.3  5.3  0.9  0.3  0.4\n",
       "1627826     360  19.0   8.3  6.5  1.1  0.3  0.8\n",
       "\n",
       "[503 rows x 7 columns]"
      ]
     },
     "execution_count": 8,
     "metadata": {},
     "output_type": "execute_result"
    }
   ],
   "source": [
    "players_career_stats = pd.read_csv('nba_players_career_stats.csv')\n",
    "players_career_stats = players_career_stats.set_index('PLAYER_ID')\n",
    "players_career_stats\n",
    "\n"
   ]
  },
  {
   "cell_type": "markdown",
   "id": "68a65d51-6847-4811-b57f-1f858c27decd",
   "metadata": {
    "id": "68a65d51-6847-4811-b57f-1f858c27decd"
   },
   "source": [
    "4- Create a function to find players next games and save the information to a csv call \"nba_players_next_game.csv\""
   ]
  },
  {
   "cell_type": "code",
   "execution_count": 9,
   "id": "9c3b9b62-4eb8-434b-b808-ec94154b2a50",
   "metadata": {
    "id": "9c3b9b62-4eb8-434b-b808-ec94154b2a50"
   },
   "outputs": [],
   "source": [
    "### Complete in this cell: find players next game\n",
    "\n",
    "def get_players_next_game(current_players_list):\n",
    "    player_next_game = pd.DataFrame()\n",
    "    count=0\n",
    "    for y in current_players_list.index:\n",
    "        player_data = playerprofilev2.PlayerProfileV2(per_mode36=\"PerGame\",player_id=str(y),timeout=50).next_game.get_data_frame()  #pull data from endpoint using playerID\n",
    "        player_data.insert(0, \"PLAYER_ID\", y, True)\n",
    "        player_next_game = player_next_game.append(player_data)\n",
    "        count = sleepAndPrint(count)       \n",
    "    player_next_game = player_next_game[[\"PLAYER_ID\",\"GAME_DATE\"]] ; player_next_game = player_next_game.set_index('PLAYER_ID')\n",
    "    return player_next_game"
   ]
  },
  {
   "cell_type": "markdown",
   "id": "a85ce432",
   "metadata": {},
   "source": [
    "Get next_game from API:"
   ]
  },
  {
   "cell_type": "code",
   "execution_count": 10,
   "id": "17915222-3606-4bb2-93e6-27d98eea7c7b",
   "metadata": {
    "id": "17915222-3606-4bb2-93e6-27d98eea7c7b"
   },
   "outputs": [
    {
     "name": "stdout",
     "output_type": "stream",
     "text": [
      "Retrieving player n°: 504\r"
     ]
    },
    {
     "data": {
      "text/html": [
       "<div>\n",
       "<style scoped>\n",
       "    .dataframe tbody tr th:only-of-type {\n",
       "        vertical-align: middle;\n",
       "    }\n",
       "\n",
       "    .dataframe tbody tr th {\n",
       "        vertical-align: top;\n",
       "    }\n",
       "\n",
       "    .dataframe thead th {\n",
       "        text-align: right;\n",
       "    }\n",
       "</style>\n",
       "<table border=\"1\" class=\"dataframe\">\n",
       "  <thead>\n",
       "    <tr style=\"text-align: right;\">\n",
       "      <th></th>\n",
       "      <th>GAME_DATE</th>\n",
       "    </tr>\n",
       "    <tr>\n",
       "      <th>PLAYER_ID</th>\n",
       "      <th></th>\n",
       "    </tr>\n",
       "  </thead>\n",
       "  <tbody>\n",
       "    <tr>\n",
       "      <th>1630173</th>\n",
       "      <td>APR 23 2022</td>\n",
       "    </tr>\n",
       "    <tr>\n",
       "      <th>203500</th>\n",
       "      <td>APR 23 2022</td>\n",
       "    </tr>\n",
       "    <tr>\n",
       "      <th>1628389</th>\n",
       "      <td>APR 24 2022</td>\n",
       "    </tr>\n",
       "    <tr>\n",
       "      <th>1630583</th>\n",
       "      <td>APR 23 2022</td>\n",
       "    </tr>\n",
       "    <tr>\n",
       "      <th>200746</th>\n",
       "      <td>APR 23 2022</td>\n",
       "    </tr>\n",
       "    <tr>\n",
       "      <th>...</th>\n",
       "      <td>...</td>\n",
       "    </tr>\n",
       "    <tr>\n",
       "      <th>1630589</th>\n",
       "      <td>APR 23 2022</td>\n",
       "    </tr>\n",
       "    <tr>\n",
       "      <th>1630593</th>\n",
       "      <td>APR 23 2022</td>\n",
       "    </tr>\n",
       "    <tr>\n",
       "      <th>201152</th>\n",
       "      <td>APR 23 2022</td>\n",
       "    </tr>\n",
       "    <tr>\n",
       "      <th>1629027</th>\n",
       "      <td>APR 24 2022</td>\n",
       "    </tr>\n",
       "    <tr>\n",
       "      <th>1630209</th>\n",
       "      <td>APR 24 2022</td>\n",
       "    </tr>\n",
       "  </tbody>\n",
       "</table>\n",
       "<p>269 rows × 1 columns</p>\n",
       "</div>"
      ],
      "text/plain": [
       "             GAME_DATE\n",
       "PLAYER_ID             \n",
       "1630173    APR 23 2022\n",
       "203500     APR 23 2022\n",
       "1628389    APR 24 2022\n",
       "1630583    APR 23 2022\n",
       "200746     APR 23 2022\n",
       "...                ...\n",
       "1630589    APR 23 2022\n",
       "1630593    APR 23 2022\n",
       "201152     APR 23 2022\n",
       "1629027    APR 24 2022\n",
       "1630209    APR 24 2022\n",
       "\n",
       "[269 rows x 1 columns]"
      ]
     },
     "execution_count": 10,
     "metadata": {},
     "output_type": "execute_result"
    }
   ],
   "source": [
    "players_next_game = get_players_next_game(current_players_list)\n",
    "players_next_game.to_csv(\"nba_players_next_game.csv\")"
   ]
  },
  {
   "cell_type": "markdown",
   "id": "b100b661",
   "metadata": {},
   "source": [
    "*Read csv nba_players_next_game.csv from disk:"
   ]
  },
  {
   "cell_type": "code",
   "execution_count": 11,
   "id": "07c3c637",
   "metadata": {},
   "outputs": [
    {
     "data": {
      "text/html": [
       "<div>\n",
       "<style scoped>\n",
       "    .dataframe tbody tr th:only-of-type {\n",
       "        vertical-align: middle;\n",
       "    }\n",
       "\n",
       "    .dataframe tbody tr th {\n",
       "        vertical-align: top;\n",
       "    }\n",
       "\n",
       "    .dataframe thead th {\n",
       "        text-align: right;\n",
       "    }\n",
       "</style>\n",
       "<table border=\"1\" class=\"dataframe\">\n",
       "  <thead>\n",
       "    <tr style=\"text-align: right;\">\n",
       "      <th></th>\n",
       "      <th>GAME_DATE</th>\n",
       "    </tr>\n",
       "    <tr>\n",
       "      <th>PLAYER_ID</th>\n",
       "      <th></th>\n",
       "    </tr>\n",
       "  </thead>\n",
       "  <tbody>\n",
       "    <tr>\n",
       "      <th>1630173</th>\n",
       "      <td>APR 23 2022</td>\n",
       "    </tr>\n",
       "    <tr>\n",
       "      <th>203500</th>\n",
       "      <td>APR 23 2022</td>\n",
       "    </tr>\n",
       "    <tr>\n",
       "      <th>1628389</th>\n",
       "      <td>APR 24 2022</td>\n",
       "    </tr>\n",
       "    <tr>\n",
       "      <th>1630583</th>\n",
       "      <td>APR 23 2022</td>\n",
       "    </tr>\n",
       "    <tr>\n",
       "      <th>200746</th>\n",
       "      <td>APR 23 2022</td>\n",
       "    </tr>\n",
       "    <tr>\n",
       "      <th>...</th>\n",
       "      <td>...</td>\n",
       "    </tr>\n",
       "    <tr>\n",
       "      <th>1630589</th>\n",
       "      <td>APR 23 2022</td>\n",
       "    </tr>\n",
       "    <tr>\n",
       "      <th>1630593</th>\n",
       "      <td>APR 23 2022</td>\n",
       "    </tr>\n",
       "    <tr>\n",
       "      <th>201152</th>\n",
       "      <td>APR 23 2022</td>\n",
       "    </tr>\n",
       "    <tr>\n",
       "      <th>1629027</th>\n",
       "      <td>APR 24 2022</td>\n",
       "    </tr>\n",
       "    <tr>\n",
       "      <th>1630209</th>\n",
       "      <td>APR 24 2022</td>\n",
       "    </tr>\n",
       "  </tbody>\n",
       "</table>\n",
       "<p>269 rows × 1 columns</p>\n",
       "</div>"
      ],
      "text/plain": [
       "             GAME_DATE\n",
       "PLAYER_ID             \n",
       "1630173    APR 23 2022\n",
       "203500     APR 23 2022\n",
       "1628389    APR 24 2022\n",
       "1630583    APR 23 2022\n",
       "200746     APR 23 2022\n",
       "...                ...\n",
       "1630589    APR 23 2022\n",
       "1630593    APR 23 2022\n",
       "201152     APR 23 2022\n",
       "1629027    APR 24 2022\n",
       "1630209    APR 24 2022\n",
       "\n",
       "[269 rows x 1 columns]"
      ]
     },
     "execution_count": 11,
     "metadata": {},
     "output_type": "execute_result"
    }
   ],
   "source": [
    "players_next_game = pd.read_csv('nba_players_next_game.csv')\n",
    "players_next_game = players_next_game.set_index('PLAYER_ID')\n",
    "players_next_game"
   ]
  },
  {
   "cell_type": "markdown",
   "id": "55b8ce09-e5d9-4f82-87db-ffe2916cc431",
   "metadata": {
    "id": "55b8ce09-e5d9-4f82-87db-ffe2916cc431"
   },
   "source": [
    "5- Create a function to find players salary for this season, save the information to a csv called \"nba_players_salary.csv\". Make sure the players names format match the ones in the API, otherwise you won't be able to merge the data later."
   ]
  },
  {
   "cell_type": "markdown",
   "id": "10da071b-ca7d-429e-bb85-e731cd66abb7",
   "metadata": {
    "id": "10da071b-ca7d-429e-bb85-e731cd66abb7"
   },
   "source": [
    "Hint: Using data from the Basketball Reference page, you will have to solve 2 kinds of problems, duplicated values (for which you should keep just the first value) and players names not matching with the ones from the API. The latter problem has multiple causes, one of them is that some names are written with non ascii characters (there are libraries for dealing with that)."
   ]
  },
  {
   "cell_type": "code",
   "execution_count": 12,
   "id": "cecfecb4-62bb-41b9-b4ae-13b57c3e2198",
   "metadata": {
    "id": "cecfecb4-62bb-41b9-b4ae-13b57c3e2198"
   },
   "outputs": [],
   "source": [
    "### Complete in this cell: find players salary, save the information to csv\n",
    "\n",
    "def get_nba_players_salaries(csv_file_path):\n",
    "    salaries = pd.read_html('https://hoopshype.com/salaries/players/')[0]\n",
    "    salaries = salaries.rename(columns={'Player':'PLAYER_NAME','2021/22':'SALARY'})\n",
    "    salaries = salaries[[\"PLAYER_NAME\", \"SALARY\"]]\n",
    "\n",
    "    return salaries"
   ]
  },
  {
   "cell_type": "code",
   "execution_count": 13,
   "id": "72f0edd5-c702-463e-8e17-4270a3131bba",
   "metadata": {
    "id": "72f0edd5-c702-463e-8e17-4270a3131bba"
   },
   "outputs": [
    {
     "data": {
      "text/html": [
       "<div>\n",
       "<style scoped>\n",
       "    .dataframe tbody tr th:only-of-type {\n",
       "        vertical-align: middle;\n",
       "    }\n",
       "\n",
       "    .dataframe tbody tr th {\n",
       "        vertical-align: top;\n",
       "    }\n",
       "\n",
       "    .dataframe thead th {\n",
       "        text-align: right;\n",
       "    }\n",
       "</style>\n",
       "<table border=\"1\" class=\"dataframe\">\n",
       "  <thead>\n",
       "    <tr style=\"text-align: right;\">\n",
       "      <th></th>\n",
       "      <th>PLAYER_NAME</th>\n",
       "      <th>SALARY</th>\n",
       "    </tr>\n",
       "  </thead>\n",
       "  <tbody>\n",
       "    <tr>\n",
       "      <th>0</th>\n",
       "      <td>Stephen Curry</td>\n",
       "      <td>$45,780,966</td>\n",
       "    </tr>\n",
       "    <tr>\n",
       "      <th>1</th>\n",
       "      <td>John Wall</td>\n",
       "      <td>$44,310,840</td>\n",
       "    </tr>\n",
       "    <tr>\n",
       "      <th>2</th>\n",
       "      <td>James Harden</td>\n",
       "      <td>$44,310,840</td>\n",
       "    </tr>\n",
       "    <tr>\n",
       "      <th>3</th>\n",
       "      <td>Russell Westbrook</td>\n",
       "      <td>$44,211,146</td>\n",
       "    </tr>\n",
       "    <tr>\n",
       "      <th>4</th>\n",
       "      <td>Kevin Durant</td>\n",
       "      <td>$42,018,900</td>\n",
       "    </tr>\n",
       "    <tr>\n",
       "      <th>...</th>\n",
       "      <td>...</td>\n",
       "      <td>...</td>\n",
       "    </tr>\n",
       "    <tr>\n",
       "      <th>649</th>\n",
       "      <td>Craig Sword</td>\n",
       "      <td>$53,176</td>\n",
       "    </tr>\n",
       "    <tr>\n",
       "      <th>650</th>\n",
       "      <td>Luca Vildoza</td>\n",
       "      <td>$42,789</td>\n",
       "    </tr>\n",
       "    <tr>\n",
       "      <th>651</th>\n",
       "      <td>Zavier Simpson</td>\n",
       "      <td>$37,223</td>\n",
       "    </tr>\n",
       "    <tr>\n",
       "      <th>652</th>\n",
       "      <td>Mfiondu Kabengele</td>\n",
       "      <td>$19,186</td>\n",
       "    </tr>\n",
       "    <tr>\n",
       "      <th>653</th>\n",
       "      <td>Melvin Frazier</td>\n",
       "      <td>$13,294</td>\n",
       "    </tr>\n",
       "  </tbody>\n",
       "</table>\n",
       "<p>654 rows × 2 columns</p>\n",
       "</div>"
      ],
      "text/plain": [
       "           PLAYER_NAME       SALARY\n",
       "0        Stephen Curry  $45,780,966\n",
       "1            John Wall  $44,310,840\n",
       "2         James Harden  $44,310,840\n",
       "3    Russell Westbrook  $44,211,146\n",
       "4         Kevin Durant  $42,018,900\n",
       "..                 ...          ...\n",
       "649        Craig Sword      $53,176\n",
       "650       Luca Vildoza      $42,789\n",
       "651     Zavier Simpson      $37,223\n",
       "652  Mfiondu Kabengele      $19,186\n",
       "653     Melvin Frazier      $13,294\n",
       "\n",
       "[654 rows x 2 columns]"
      ]
     },
     "execution_count": 13,
     "metadata": {},
     "output_type": "execute_result"
    }
   ],
   "source": [
    "players_salaries = get_nba_players_salaries(\"contracts.csv\")\n",
    "players_salaries.to_csv(\"nba_players_salary.csv\")\n",
    "players_salaries"
   ]
  },
  {
   "cell_type": "markdown",
   "id": "b9715da7",
   "metadata": {},
   "source": [
    "*Read csv nba_players_next_game.csv from disk:"
   ]
  },
  {
   "cell_type": "code",
   "execution_count": 15,
   "id": "c5f74ecf",
   "metadata": {},
   "outputs": [
    {
     "data": {
      "text/html": [
       "<div>\n",
       "<style scoped>\n",
       "    .dataframe tbody tr th:only-of-type {\n",
       "        vertical-align: middle;\n",
       "    }\n",
       "\n",
       "    .dataframe tbody tr th {\n",
       "        vertical-align: top;\n",
       "    }\n",
       "\n",
       "    .dataframe thead th {\n",
       "        text-align: right;\n",
       "    }\n",
       "</style>\n",
       "<table border=\"1\" class=\"dataframe\">\n",
       "  <thead>\n",
       "    <tr style=\"text-align: right;\">\n",
       "      <th></th>\n",
       "      <th>PLAYER_NAME</th>\n",
       "      <th>SALARY</th>\n",
       "    </tr>\n",
       "  </thead>\n",
       "  <tbody>\n",
       "    <tr>\n",
       "      <th>0</th>\n",
       "      <td>Stephen Curry</td>\n",
       "      <td>$45,780,966</td>\n",
       "    </tr>\n",
       "    <tr>\n",
       "      <th>1</th>\n",
       "      <td>John Wall</td>\n",
       "      <td>$44,310,840</td>\n",
       "    </tr>\n",
       "    <tr>\n",
       "      <th>2</th>\n",
       "      <td>James Harden</td>\n",
       "      <td>$44,310,840</td>\n",
       "    </tr>\n",
       "    <tr>\n",
       "      <th>3</th>\n",
       "      <td>Russell Westbrook</td>\n",
       "      <td>$44,211,146</td>\n",
       "    </tr>\n",
       "    <tr>\n",
       "      <th>4</th>\n",
       "      <td>Kevin Durant</td>\n",
       "      <td>$42,018,900</td>\n",
       "    </tr>\n",
       "    <tr>\n",
       "      <th>...</th>\n",
       "      <td>...</td>\n",
       "      <td>...</td>\n",
       "    </tr>\n",
       "    <tr>\n",
       "      <th>649</th>\n",
       "      <td>Craig Sword</td>\n",
       "      <td>$53,176</td>\n",
       "    </tr>\n",
       "    <tr>\n",
       "      <th>650</th>\n",
       "      <td>Luca Vildoza</td>\n",
       "      <td>$42,789</td>\n",
       "    </tr>\n",
       "    <tr>\n",
       "      <th>651</th>\n",
       "      <td>Zavier Simpson</td>\n",
       "      <td>$37,223</td>\n",
       "    </tr>\n",
       "    <tr>\n",
       "      <th>652</th>\n",
       "      <td>Mfiondu Kabengele</td>\n",
       "      <td>$19,186</td>\n",
       "    </tr>\n",
       "    <tr>\n",
       "      <th>653</th>\n",
       "      <td>Melvin Frazier</td>\n",
       "      <td>$13,294</td>\n",
       "    </tr>\n",
       "  </tbody>\n",
       "</table>\n",
       "<p>654 rows × 2 columns</p>\n",
       "</div>"
      ],
      "text/plain": [
       "           PLAYER_NAME       SALARY\n",
       "0        Stephen Curry  $45,780,966\n",
       "1            John Wall  $44,310,840\n",
       "2         James Harden  $44,310,840\n",
       "3    Russell Westbrook  $44,211,146\n",
       "4         Kevin Durant  $42,018,900\n",
       "..                 ...          ...\n",
       "649        Craig Sword      $53,176\n",
       "650       Luca Vildoza      $42,789\n",
       "651     Zavier Simpson      $37,223\n",
       "652  Mfiondu Kabengele      $19,186\n",
       "653     Melvin Frazier      $13,294\n",
       "\n",
       "[654 rows x 2 columns]"
      ]
     },
     "execution_count": 15,
     "metadata": {},
     "output_type": "execute_result"
    }
   ],
   "source": [
    "players_salaries = pd.read_csv(\"nba_players_salary.csv\",index_col=0)\n",
    "players_salaries"
   ]
  },
  {
   "cell_type": "markdown",
   "id": "5bd1cb5a-d9d1-454e-80d3-81521ac1d94e",
   "metadata": {
    "id": "5bd1cb5a-d9d1-454e-80d3-81521ac1d94e"
   },
   "source": [
    "6- Create a function to merge the created dataframes: players_personal_info, players_career_stats, players_next_game, players_salaries. For each dataframe, select only the subset of columns needed to create the dataset described in section \"The Dataset\"\n",
    "\n",
    "    - Players info: \"PLAYER_NAME\", \"TEAM_NAME\", \"POSITION\", \"HEIGHT\", \"WEIGHT\", \"COUNTRY\", \"BIRTHDATE\", \"SEASON_EXP\", \"DRAFT_NUMBER\"\n",
    "    - Players stats: \"GP\", \"MIN\", \"PTS\", \"REB\", \"AST\", \"STL\", \"BLK\"\n",
    "    - Misc: \"GAME_DATE\", \"SALARY\"\n",
    "\n",
    "Save the result to a csv called \"raw_nba_players_dataset.csv\""
   ]
  },
  {
   "cell_type": "markdown",
   "id": "4bb26887-9030-49dd-aa24-6433df8d6f50",
   "metadata": {
    "id": "4bb26887-9030-49dd-aa24-6433df8d6f50"
   },
   "source": [
    "Hint: Before merging the data, you should make sure all four dataframes have the same length, are indexed by PERSON_ID and have the same keys"
   ]
  },
  {
   "cell_type": "code",
   "execution_count": 34,
   "id": "81bb411a-ecf4-4cd8-8cd8-2d9259397324",
   "metadata": {
    "id": "81bb411a-ecf4-4cd8-8cd8-2d9259397324"
   },
   "outputs": [],
   "source": [
    "### Complete in this cell: merge the dataframes\n",
    "from functools import reduce\n",
    "\n",
    "def merge_dataframes(players_personal_info, players_career_stats, players_next_game, players_salaries):\n",
    "    \n",
    "    dfs = [players_personal_info, players_career_stats, players_next_game]                   # df List\n",
    "\n",
    "    dataframe = reduce(lambda a,b: pd.merge(a,b,on='PLAYER_ID', how=\"left\"), dfs)            # Reduce & apply lambda for pair merging     \n",
    "    \n",
    "    dataframe = [dataframe, players_salaries]                                                # df second list to merge\n",
    "    \n",
    "    dataframe = reduce(lambda a,b: pd.merge(a,b, on='PLAYER_NAME',right_index=True, how='inner'),dataframe)    # Merge with players_salaries\n",
    "    \n",
    "    return dataframe"
   ]
  },
  {
   "cell_type": "code",
   "execution_count": 35,
   "id": "388ceb75-3de2-4e28-a10a-d389d7617905",
   "metadata": {
    "id": "388ceb75-3de2-4e28-a10a-d389d7617905"
   },
   "outputs": [
    {
     "data": {
      "text/html": [
       "<div>\n",
       "<style scoped>\n",
       "    .dataframe tbody tr th:only-of-type {\n",
       "        vertical-align: middle;\n",
       "    }\n",
       "\n",
       "    .dataframe tbody tr th {\n",
       "        vertical-align: top;\n",
       "    }\n",
       "\n",
       "    .dataframe thead th {\n",
       "        text-align: right;\n",
       "    }\n",
       "</style>\n",
       "<table border=\"1\" class=\"dataframe\">\n",
       "  <thead>\n",
       "    <tr style=\"text-align: right;\">\n",
       "      <th></th>\n",
       "      <th>PLAYER_NAME</th>\n",
       "      <th>TEAM_NAME</th>\n",
       "      <th>POSITION</th>\n",
       "      <th>HEIGHT</th>\n",
       "      <th>WEIGHT</th>\n",
       "      <th>COUNTRY</th>\n",
       "      <th>BIRTHDATE</th>\n",
       "      <th>DRAFT_NUMBER</th>\n",
       "      <th>GP</th>\n",
       "      <th>MIN</th>\n",
       "      <th>PTS</th>\n",
       "      <th>REB</th>\n",
       "      <th>AST</th>\n",
       "      <th>STL</th>\n",
       "      <th>BLK</th>\n",
       "      <th>GAME_DATE</th>\n",
       "      <th>SALARY</th>\n",
       "    </tr>\n",
       "    <tr>\n",
       "      <th>PLAYER_ID</th>\n",
       "      <th></th>\n",
       "      <th></th>\n",
       "      <th></th>\n",
       "      <th></th>\n",
       "      <th></th>\n",
       "      <th></th>\n",
       "      <th></th>\n",
       "      <th></th>\n",
       "      <th></th>\n",
       "      <th></th>\n",
       "      <th></th>\n",
       "      <th></th>\n",
       "      <th></th>\n",
       "      <th></th>\n",
       "      <th></th>\n",
       "      <th></th>\n",
       "      <th></th>\n",
       "    </tr>\n",
       "  </thead>\n",
       "  <tbody>\n",
       "    <tr>\n",
       "      <th>1630173</th>\n",
       "      <td>Precious Achiuwa</td>\n",
       "      <td>Raptors</td>\n",
       "      <td>Forward</td>\n",
       "      <td>6-8</td>\n",
       "      <td>225</td>\n",
       "      <td>Nigeria</td>\n",
       "      <td>1999-09-19T00:00:00</td>\n",
       "      <td>20</td>\n",
       "      <td>134</td>\n",
       "      <td>18.4</td>\n",
       "      <td>7.2</td>\n",
       "      <td>5.1</td>\n",
       "      <td>0.8</td>\n",
       "      <td>0.4</td>\n",
       "      <td>0.5</td>\n",
       "      <td>APR 23 2022</td>\n",
       "      <td>$2,711,280</td>\n",
       "    </tr>\n",
       "    <tr>\n",
       "      <th>203500</th>\n",
       "      <td>Steven Adams</td>\n",
       "      <td>Grizzlies</td>\n",
       "      <td>Center</td>\n",
       "      <td>6-11</td>\n",
       "      <td>265</td>\n",
       "      <td>New Zealand</td>\n",
       "      <td>1993-07-20T00:00:00</td>\n",
       "      <td>12</td>\n",
       "      <td>664</td>\n",
       "      <td>26.8</td>\n",
       "      <td>9.3</td>\n",
       "      <td>8.0</td>\n",
       "      <td>1.5</td>\n",
       "      <td>0.9</td>\n",
       "      <td>0.9</td>\n",
       "      <td>APR 23 2022</td>\n",
       "      <td>$17,073,171</td>\n",
       "    </tr>\n",
       "    <tr>\n",
       "      <th>1628389</th>\n",
       "      <td>Bam Adebayo</td>\n",
       "      <td>Heat</td>\n",
       "      <td>Center-Forward</td>\n",
       "      <td>6-9</td>\n",
       "      <td>255</td>\n",
       "      <td>USA</td>\n",
       "      <td>1997-07-18T00:00:00</td>\n",
       "      <td>14</td>\n",
       "      <td>343</td>\n",
       "      <td>28.2</td>\n",
       "      <td>13.5</td>\n",
       "      <td>8.3</td>\n",
       "      <td>3.5</td>\n",
       "      <td>1.0</td>\n",
       "      <td>0.9</td>\n",
       "      <td>APR 24 2022</td>\n",
       "      <td>$28,103,500</td>\n",
       "    </tr>\n",
       "    <tr>\n",
       "      <th>200746</th>\n",
       "      <td>LaMarcus Aldridge</td>\n",
       "      <td>Nets</td>\n",
       "      <td>Center-Forward</td>\n",
       "      <td>6-11</td>\n",
       "      <td>250</td>\n",
       "      <td>USA</td>\n",
       "      <td>1985-07-19T00:00:00</td>\n",
       "      <td>2</td>\n",
       "      <td>1076</td>\n",
       "      <td>33.7</td>\n",
       "      <td>19.1</td>\n",
       "      <td>8.1</td>\n",
       "      <td>1.9</td>\n",
       "      <td>0.7</td>\n",
       "      <td>1.1</td>\n",
       "      <td>APR 23 2022</td>\n",
       "      <td>$2,641,691</td>\n",
       "    </tr>\n",
       "    <tr>\n",
       "      <th>1629638</th>\n",
       "      <td>Nickeil Alexander-Walker</td>\n",
       "      <td>Jazz</td>\n",
       "      <td>Guard</td>\n",
       "      <td>6-5</td>\n",
       "      <td>205</td>\n",
       "      <td>Canada</td>\n",
       "      <td>1998-09-02T00:00:00</td>\n",
       "      <td>17</td>\n",
       "      <td>158</td>\n",
       "      <td>19.4</td>\n",
       "      <td>9.3</td>\n",
       "      <td>2.6</td>\n",
       "      <td>2.2</td>\n",
       "      <td>0.7</td>\n",
       "      <td>0.3</td>\n",
       "      <td>APR 23 2022</td>\n",
       "      <td>$3,261,480</td>\n",
       "    </tr>\n",
       "    <tr>\n",
       "      <th>...</th>\n",
       "      <td>...</td>\n",
       "      <td>...</td>\n",
       "      <td>...</td>\n",
       "      <td>...</td>\n",
       "      <td>...</td>\n",
       "      <td>...</td>\n",
       "      <td>...</td>\n",
       "      <td>...</td>\n",
       "      <td>...</td>\n",
       "      <td>...</td>\n",
       "      <td>...</td>\n",
       "      <td>...</td>\n",
       "      <td>...</td>\n",
       "      <td>...</td>\n",
       "      <td>...</td>\n",
       "      <td>...</td>\n",
       "      <td>...</td>\n",
       "    </tr>\n",
       "    <tr>\n",
       "      <th>1630589</th>\n",
       "      <td>Moses Wright</td>\n",
       "      <td>Mavericks</td>\n",
       "      <td>Forward</td>\n",
       "      <td>6-8</td>\n",
       "      <td>226</td>\n",
       "      <td>USA</td>\n",
       "      <td>1998-12-23T00:00:00</td>\n",
       "      <td>Undrafted</td>\n",
       "      <td>4</td>\n",
       "      <td>3.8</td>\n",
       "      <td>1.3</td>\n",
       "      <td>0.8</td>\n",
       "      <td>0.5</td>\n",
       "      <td>0.0</td>\n",
       "      <td>0.3</td>\n",
       "      <td>APR 23 2022</td>\n",
       "      <td>$172,821</td>\n",
       "    </tr>\n",
       "    <tr>\n",
       "      <th>201152</th>\n",
       "      <td>Thaddeus Young</td>\n",
       "      <td>Raptors</td>\n",
       "      <td>Forward</td>\n",
       "      <td>6-8</td>\n",
       "      <td>235</td>\n",
       "      <td>USA</td>\n",
       "      <td>1988-06-21T00:00:00</td>\n",
       "      <td>12</td>\n",
       "      <td>1085</td>\n",
       "      <td>29.3</td>\n",
       "      <td>12.8</td>\n",
       "      <td>5.8</td>\n",
       "      <td>1.8</td>\n",
       "      <td>1.4</td>\n",
       "      <td>0.4</td>\n",
       "      <td>APR 23 2022</td>\n",
       "      <td>$14,190,000</td>\n",
       "    </tr>\n",
       "    <tr>\n",
       "      <th>1629027</th>\n",
       "      <td>Trae Young</td>\n",
       "      <td>Hawks</td>\n",
       "      <td>Guard</td>\n",
       "      <td>6-1</td>\n",
       "      <td>164</td>\n",
       "      <td>USA</td>\n",
       "      <td>1998-09-19T00:00:00</td>\n",
       "      <td>5</td>\n",
       "      <td>280</td>\n",
       "      <td>33.6</td>\n",
       "      <td>25.3</td>\n",
       "      <td>3.9</td>\n",
       "      <td>9.1</td>\n",
       "      <td>0.9</td>\n",
       "      <td>0.2</td>\n",
       "      <td>APR 24 2022</td>\n",
       "      <td>$8,326,471</td>\n",
       "    </tr>\n",
       "    <tr>\n",
       "      <th>1630209</th>\n",
       "      <td>Omer Yurtseven</td>\n",
       "      <td>Heat</td>\n",
       "      <td>Center</td>\n",
       "      <td>6-11</td>\n",
       "      <td>275</td>\n",
       "      <td>Turkey</td>\n",
       "      <td>1998-06-19T00:00:00</td>\n",
       "      <td>Undrafted</td>\n",
       "      <td>56</td>\n",
       "      <td>12.6</td>\n",
       "      <td>5.3</td>\n",
       "      <td>5.3</td>\n",
       "      <td>0.9</td>\n",
       "      <td>0.3</td>\n",
       "      <td>0.4</td>\n",
       "      <td>APR 24 2022</td>\n",
       "      <td>$1,489,065</td>\n",
       "    </tr>\n",
       "    <tr>\n",
       "      <th>1627826</th>\n",
       "      <td>Ivica Zubac</td>\n",
       "      <td>Clippers</td>\n",
       "      <td>Center</td>\n",
       "      <td>7-0</td>\n",
       "      <td>240</td>\n",
       "      <td>Croatia</td>\n",
       "      <td>1997-03-18T00:00:00</td>\n",
       "      <td>32</td>\n",
       "      <td>360</td>\n",
       "      <td>19.0</td>\n",
       "      <td>8.3</td>\n",
       "      <td>6.5</td>\n",
       "      <td>1.1</td>\n",
       "      <td>0.3</td>\n",
       "      <td>0.8</td>\n",
       "      <td>NaN</td>\n",
       "      <td>$7,518,518</td>\n",
       "    </tr>\n",
       "  </tbody>\n",
       "</table>\n",
       "<p>450 rows × 17 columns</p>\n",
       "</div>"
      ],
      "text/plain": [
       "                        PLAYER_NAME  TEAM_NAME        POSITION HEIGHT  WEIGHT  \\\n",
       "PLAYER_ID                                                                       \n",
       "1630173            Precious Achiuwa    Raptors         Forward    6-8     225   \n",
       "203500                 Steven Adams  Grizzlies          Center   6-11     265   \n",
       "1628389                 Bam Adebayo       Heat  Center-Forward    6-9     255   \n",
       "200746            LaMarcus Aldridge       Nets  Center-Forward   6-11     250   \n",
       "1629638    Nickeil Alexander-Walker       Jazz           Guard    6-5     205   \n",
       "...                             ...        ...             ...    ...     ...   \n",
       "1630589                Moses Wright  Mavericks         Forward    6-8     226   \n",
       "201152               Thaddeus Young    Raptors         Forward    6-8     235   \n",
       "1629027                  Trae Young      Hawks           Guard    6-1     164   \n",
       "1630209              Omer Yurtseven       Heat          Center   6-11     275   \n",
       "1627826                 Ivica Zubac   Clippers          Center    7-0     240   \n",
       "\n",
       "               COUNTRY            BIRTHDATE DRAFT_NUMBER    GP   MIN   PTS  \\\n",
       "PLAYER_ID                                                                    \n",
       "1630173        Nigeria  1999-09-19T00:00:00           20   134  18.4   7.2   \n",
       "203500     New Zealand  1993-07-20T00:00:00           12   664  26.8   9.3   \n",
       "1628389            USA  1997-07-18T00:00:00           14   343  28.2  13.5   \n",
       "200746             USA  1985-07-19T00:00:00            2  1076  33.7  19.1   \n",
       "1629638         Canada  1998-09-02T00:00:00           17   158  19.4   9.3   \n",
       "...                ...                  ...          ...   ...   ...   ...   \n",
       "1630589            USA  1998-12-23T00:00:00    Undrafted     4   3.8   1.3   \n",
       "201152             USA  1988-06-21T00:00:00           12  1085  29.3  12.8   \n",
       "1629027            USA  1998-09-19T00:00:00            5   280  33.6  25.3   \n",
       "1630209         Turkey  1998-06-19T00:00:00    Undrafted    56  12.6   5.3   \n",
       "1627826        Croatia  1997-03-18T00:00:00           32   360  19.0   8.3   \n",
       "\n",
       "           REB  AST  STL  BLK    GAME_DATE       SALARY  \n",
       "PLAYER_ID                                                \n",
       "1630173    5.1  0.8  0.4  0.5  APR 23 2022   $2,711,280  \n",
       "203500     8.0  1.5  0.9  0.9  APR 23 2022  $17,073,171  \n",
       "1628389    8.3  3.5  1.0  0.9  APR 24 2022  $28,103,500  \n",
       "200746     8.1  1.9  0.7  1.1  APR 23 2022   $2,641,691  \n",
       "1629638    2.6  2.2  0.7  0.3  APR 23 2022   $3,261,480  \n",
       "...        ...  ...  ...  ...          ...          ...  \n",
       "1630589    0.8  0.5  0.0  0.3  APR 23 2022     $172,821  \n",
       "201152     5.8  1.8  1.4  0.4  APR 23 2022  $14,190,000  \n",
       "1629027    3.9  9.1  0.9  0.2  APR 24 2022   $8,326,471  \n",
       "1630209    5.3  0.9  0.3  0.4  APR 24 2022   $1,489,065  \n",
       "1627826    6.5  1.1  0.3  0.8          NaN   $7,518,518  \n",
       "\n",
       "[450 rows x 17 columns]"
      ]
     },
     "execution_count": 35,
     "metadata": {},
     "output_type": "execute_result"
    }
   ],
   "source": [
    "raw_players_dataset = merge_dataframes(players_personal_info, players_career_stats, players_next_game, players_salaries)\n",
    "raw_players_dataset.to_csv(\"raw_nba_players_dataset.csv\")\n",
    "raw_players_dataset"
   ]
  },
  {
   "cell_type": "markdown",
   "id": "b08b2775-dd82-415a-8a6e-46c51b8c3f2b",
   "metadata": {
    "id": "b08b2775-dd82-415a-8a6e-46c51b8c3f2b"
   },
   "source": [
    "## Data Cleaning and Preprocessing"
   ]
  },
  {
   "cell_type": "markdown",
   "id": "c52dd5c8-5536-4b0e-a51a-6d7ff4140c0b",
   "metadata": {
    "id": "c52dd5c8-5536-4b0e-a51a-6d7ff4140c0b"
   },
   "source": [
    "There are several steps that you will have to follow, depending on where you have collected the data some information might be missing.  \n",
    "\n",
    "- Height and weight might need to be converted to the metric system\n",
    "- Players that have no team assigned should be removed from the dataset\n",
    "- Players with no contracts (meaning they don't have a salary defined) should be removed from the dataset\n",
    "- If the \"position\" data is ambiguous (listed at multiple positions), use the first value\n",
    "- If the player does not have height or weight data, use the average for its position as its value\n",
    "- In order to fill the column next_game_date, just consider the date of the next game of each player's team. "
   ]
  },
  {
   "cell_type": "markdown",
   "id": "af006585-e338-429a-a0ef-2598430f8b32",
   "metadata": {
    "id": "af006585-e338-429a-a0ef-2598430f8b32"
   },
   "source": [
    "1- Create a copy of your dataset named \"working_df\", remove all players with no teams or salary"
   ]
  },
  {
   "cell_type": "code",
   "execution_count": null,
   "id": "4327e4da-a3e0-4870-a7a4-abea76fb2205",
   "metadata": {
    "id": "4327e4da-a3e0-4870-a7a4-abea76fb2205"
   },
   "outputs": [],
   "source": [
    "### Complete in this cell: copy the dataset and drop NaNs in team or salary\n",
    "def copy_and_delete_nan(players_dataset):\n",
    "    pass"
   ]
  },
  {
   "cell_type": "code",
   "execution_count": null,
   "id": "93e2d191-dadd-481c-91fa-ff5aac1c824b",
   "metadata": {
    "id": "93e2d191-dadd-481c-91fa-ff5aac1c824b"
   },
   "outputs": [],
   "source": [
    "working_df = copy_and_delete_nan(raw_players_dataset)"
   ]
  },
  {
   "cell_type": "markdown",
   "id": "9ccbdce4-cf4f-48e2-a597-49816f18a400",
   "metadata": {
    "id": "9ccbdce4-cf4f-48e2-a597-49816f18a400"
   },
   "source": [
    "2- Cast Salary, Birthday and Game Date columns to its corresponding type (int, datetime) "
   ]
  },
  {
   "cell_type": "code",
   "execution_count": null,
   "id": "d3b4d50c-4677-4014-88cc-78f142811b8b",
   "metadata": {
    "id": "d3b4d50c-4677-4014-88cc-78f142811b8b"
   },
   "outputs": [],
   "source": [
    "### Complete in this cell: cast all columns to its type\n",
    "def cast_columns(working_df):\n",
    "    pass"
   ]
  },
  {
   "cell_type": "code",
   "execution_count": null,
   "id": "680875dc-2478-4213-b2f7-4a1da03ec71f",
   "metadata": {
    "id": "680875dc-2478-4213-b2f7-4a1da03ec71f"
   },
   "outputs": [],
   "source": [
    "cast_columns(working_df)"
   ]
  },
  {
   "cell_type": "markdown",
   "id": "f20f28d7-e6a1-4e6d-a51b-80ef8be06fd5",
   "metadata": {
    "id": "f20f28d7-e6a1-4e6d-a51b-80ef8be06fd5"
   },
   "source": [
    "3- Create a function that converts the height column from height in feet and inches to centimeters"
   ]
  },
  {
   "cell_type": "code",
   "execution_count": null,
   "id": "8d56db84-cb66-4ca5-8789-b8b6f7938a0b",
   "metadata": {
    "id": "8d56db84-cb66-4ca5-8789-b8b6f7938a0b"
   },
   "outputs": [],
   "source": [
    "### Complete in this cell: convert height column\n",
    "def convert_height_column(working_df):\n",
    "    pass"
   ]
  },
  {
   "cell_type": "code",
   "execution_count": null,
   "id": "a0d50bed-0dc9-4672-a446-f677b7282bb0",
   "metadata": {
    "id": "a0d50bed-0dc9-4672-a446-f677b7282bb0"
   },
   "outputs": [],
   "source": [
    "convert_height_column(working_df)"
   ]
  },
  {
   "cell_type": "markdown",
   "id": "a611380e-47fe-4e81-8312-25876fb2025d",
   "metadata": {
    "id": "a611380e-47fe-4e81-8312-25876fb2025d"
   },
   "source": [
    "4- Create a function that converts the weight column from pounds to kilograms"
   ]
  },
  {
   "cell_type": "code",
   "execution_count": null,
   "id": "1532605a-d642-40c8-a15f-a8825b8276bd",
   "metadata": {
    "id": "1532605a-d642-40c8-a15f-a8825b8276bd"
   },
   "outputs": [],
   "source": [
    "### Complete in this cell: convert weight column\n",
    "def convert_weight_column(working_df):\n",
    "    pass"
   ]
  },
  {
   "cell_type": "code",
   "execution_count": null,
   "id": "34ea64a1-1269-48f1-a76a-492c9e9f8adb",
   "metadata": {
    "id": "34ea64a1-1269-48f1-a76a-492c9e9f8adb"
   },
   "outputs": [],
   "source": [
    "convert_weight_column(working_df)"
   ]
  },
  {
   "cell_type": "markdown",
   "id": "0d94c670-4e24-479a-aed1-c72a1082b452",
   "metadata": {
    "id": "0d94c670-4e24-479a-aed1-c72a1082b452"
   },
   "source": [
    "5- Create a function that calculates the age in (years, months, days) and saves it in a new string column, example: \"22 years, 5 months, 25 days\" "
   ]
  },
  {
   "cell_type": "code",
   "execution_count": null,
   "id": "1f7ec1c5-2820-4660-8c93-1a2ad44e3bb0",
   "metadata": {
    "id": "1f7ec1c5-2820-4660-8c93-1a2ad44e3bb0"
   },
   "outputs": [],
   "source": [
    "### Complete in this cell: add age column\n",
    "def add_age_column(working_df):\n",
    "    pass"
   ]
  },
  {
   "cell_type": "code",
   "execution_count": null,
   "id": "7796ed0f-4711-442b-865e-d8b09be3e227",
   "metadata": {
    "id": "7796ed0f-4711-442b-865e-d8b09be3e227"
   },
   "outputs": [],
   "source": [
    "add_age_column(working_df)"
   ]
  },
  {
   "cell_type": "markdown",
   "id": "25b55463-d16e-4635-a951-caaeb5a6795b",
   "metadata": {
    "id": "25b55463-d16e-4635-a951-caaeb5a6795b"
   },
   "source": [
    "6- Create a function that takes care of the disambiguation of the \"POSITION\" column. Should replace all positions that are mixed with the first one listed."
   ]
  },
  {
   "cell_type": "code",
   "execution_count": null,
   "id": "b32acf08-6ffa-4dae-9cfb-8ff783b6ce5b",
   "metadata": {
    "id": "b32acf08-6ffa-4dae-9cfb-8ff783b6ce5b"
   },
   "outputs": [],
   "source": [
    "### Complete in this cell: disambiguation of the position column\n",
    "def update_position(working_df):\n",
    "    pass"
   ]
  },
  {
   "cell_type": "code",
   "execution_count": null,
   "id": "6bdc5317-86cd-48ad-96ca-945f8f493bef",
   "metadata": {
    "id": "6bdc5317-86cd-48ad-96ca-945f8f493bef"
   },
   "outputs": [],
   "source": [
    "update_position(working_df)"
   ]
  },
  {
   "cell_type": "markdown",
   "id": "0cad9445-eee0-4fdf-b745-a0aac7138c87",
   "metadata": {
    "id": "0cad9445-eee0-4fdf-b745-a0aac7138c87"
   },
   "source": [
    "7- Review that the working dataset has all requested columns with its corresponding datatypes and save it as a csv with name \"nba_players_processed_dataset.csv\""
   ]
  },
  {
   "cell_type": "code",
   "execution_count": null,
   "id": "7b423e20-c9f6-449a-8d8a-497bd464811d",
   "metadata": {
    "id": "7b423e20-c9f6-449a-8d8a-497bd464811d"
   },
   "outputs": [],
   "source": [
    "working_df.to_csv(\"nba_players_processed_dataset.csv\")"
   ]
  },
  {
   "cell_type": "markdown",
   "id": "6e794f61-3cc8-4899-a999-858a3cf0b959",
   "metadata": {
    "id": "6e794f61-3cc8-4899-a999-858a3cf0b959"
   },
   "source": [
    "## Analyzing and Visualizing data"
   ]
  },
  {
   "cell_type": "markdown",
   "id": "754b6690-e0c7-42ce-ac4a-45d000a5d9a8",
   "metadata": {
    "id": "754b6690-e0c7-42ce-ac4a-45d000a5d9a8"
   },
   "source": [
    "Now that we have the data, let's do some work"
   ]
  },
  {
   "cell_type": "markdown",
   "id": "b3f4a2fc-1f4f-4a18-ad43-fb125317395b",
   "metadata": {
    "id": "b3f4a2fc-1f4f-4a18-ad43-fb125317395b"
   },
   "source": [
    "1- Calculate and print the following metrics:\n",
    "\n",
    "    - General metrics:\n",
    "        - Total number of players\n",
    "        - Number of USA born players\n",
    "        - Number of foreign players\n",
    "        - Number of players per position\n",
    "        - Number of players per team\n",
    "        - Number of rookies (first year players)\n",
    "    - Players description\n",
    "        - Average player age (in years)\n",
    "        - Youngest player age (years and days, i.e: 18 years and 16 days)\n",
    "        - Oldest player age (years and days, i.e: 40 years and 160 days)\n",
    "        - Min and Max players height\n",
    "        - Average height of players per position\n",
    "    - Contracts\n",
    "        - Min and Max salary of all players\n",
    "        - Mean and Median salary of all players\n",
    "\n",
    "Bonus: if you can, calculate how many players retired between the end of the 2020-2021 season and the start of the 2021-22 season."
   ]
  },
  {
   "cell_type": "code",
   "execution_count": null,
   "id": "b5f62de4-8ddb-4377-a87c-a3cc655b6321",
   "metadata": {
    "id": "b5f62de4-8ddb-4377-a87c-a3cc655b6321"
   },
   "outputs": [],
   "source": [
    "### Complete in this cell: print general metrics\n"
   ]
  },
  {
   "cell_type": "code",
   "execution_count": null,
   "id": "660fe44e-b928-4097-999a-2b8f269fa32d",
   "metadata": {
    "id": "660fe44e-b928-4097-999a-2b8f269fa32d"
   },
   "outputs": [],
   "source": [
    "### Complete in this cell: print players descriptions\n",
    "    "
   ]
  },
  {
   "cell_type": "code",
   "execution_count": null,
   "id": "42c6c5e5-e800-479b-b575-12a578e53400",
   "metadata": {
    "id": "42c6c5e5-e800-479b-b575-12a578e53400"
   },
   "outputs": [],
   "source": [
    "### Complete in this cell: Contracts\n"
   ]
  },
  {
   "cell_type": "markdown",
   "id": "3a146e0c-ce0d-4e0c-971e-5b21e13fa077",
   "metadata": {
    "id": "3a146e0c-ce0d-4e0c-971e-5b21e13fa077"
   },
   "source": [
    "2- Plot the relationship between scoring (points per game) and salary of all players, the players positions should also be visible."
   ]
  },
  {
   "cell_type": "code",
   "execution_count": null,
   "id": "da36f3c1-0e69-47fd-a39c-67ce53f72851",
   "metadata": {
    "id": "da36f3c1-0e69-47fd-a39c-67ce53f72851"
   },
   "outputs": [],
   "source": [
    "### Complete in this cell:  Relationship between scoring and salary (in millions of dollars)\n"
   ]
  },
  {
   "cell_type": "markdown",
   "id": "0e188438-5ea0-4299-9597-3e038661710f",
   "metadata": {
    "id": "0e188438-5ea0-4299-9597-3e038661710f"
   },
   "source": [
    "3- Now plot assists-vs-salary and rebounding-vs-salary"
   ]
  },
  {
   "cell_type": "code",
   "execution_count": null,
   "id": "47fe0a50-996c-46a3-bd3c-f3863d4bc176",
   "metadata": {
    "id": "47fe0a50-996c-46a3-bd3c-f3863d4bc176"
   },
   "outputs": [],
   "source": [
    "### Complete in this cell: plot assist-vs-salary, rebounding-vs-salary\n"
   ]
  },
  {
   "cell_type": "markdown",
   "id": "6d33d74b-dbc1-4d7d-93ab-72d0f12de486",
   "metadata": {
    "id": "6d33d74b-dbc1-4d7d-93ab-72d0f12de486"
   },
   "source": [
    "4- When NBA players enter the league, they have low value salaries during what is called their \"rookie contract\". This means that it doesn't matter how well the player performs, they can't have large salaries. This can distort our understanding of how much teams value each skill, as a player could score 50 points a game and still earn just a couple of millions. So, lets now plot points, assists and rebounding vs salary, but only for players that have more than 4 years of experience (the typical length of a rookie contract)"
   ]
  },
  {
   "cell_type": "code",
   "execution_count": null,
   "id": "761750a3-0349-4e3e-ad56-cbb829117565",
   "metadata": {
    "id": "761750a3-0349-4e3e-ad56-cbb829117565"
   },
   "outputs": [],
   "source": [
    "### Complete in this cell: non rookie contracts\n"
   ]
  },
  {
   "cell_type": "markdown",
   "id": "e52dcf3d-a009-47c4-b4a3-a5cb94e66b2e",
   "metadata": {
    "id": "e52dcf3d-a009-47c4-b4a3-a5cb94e66b2e"
   },
   "source": [
    "5- Plot the scoring average grouped by position, we want to be able to see median, quartiles, etc "
   ]
  },
  {
   "cell_type": "code",
   "execution_count": null,
   "id": "e85a80b1-1e1c-4b97-881b-41caa3473436",
   "metadata": {
    "id": "e85a80b1-1e1c-4b97-881b-41caa3473436"
   },
   "outputs": [],
   "source": [
    "### Complete in this cell: Scoring average grouped by position\n"
   ]
  },
  {
   "cell_type": "markdown",
   "id": "2a669e88-8555-4e7c-aab7-83d3683dd26e",
   "metadata": {
    "id": "2a669e88-8555-4e7c-aab7-83d3683dd26e"
   },
   "source": [
    "6- Plot the Height distribution of all players"
   ]
  },
  {
   "cell_type": "code",
   "execution_count": null,
   "id": "648e15f1-d120-413e-b244-15c88fdc914f",
   "metadata": {
    "id": "648e15f1-d120-413e-b244-15c88fdc914f"
   },
   "outputs": [],
   "source": [
    "### Complete in this cell: height distribution\n"
   ]
  },
  {
   "cell_type": "markdown",
   "id": "42f87010-5100-4331-907b-8b602226fbb2",
   "metadata": {
    "id": "42f87010-5100-4331-907b-8b602226fbb2"
   },
   "source": [
    "OPTIONAL: Can you find a way to draw a world map and show how many active players per country the NBA has? [Example](https://i.redd.it/8qymui9fnin71.jpg)"
   ]
  },
  {
   "cell_type": "code",
   "execution_count": null,
   "id": "396ece64-3cbb-4c17-9fe1-960ab8998982",
   "metadata": {
    "id": "396ece64-3cbb-4c17-9fe1-960ab8998982"
   },
   "outputs": [],
   "source": []
  },
  {
   "cell_type": "code",
   "execution_count": null,
   "id": "165e4a5c-1814-4061-a73a-d5ff94489f5a",
   "metadata": {
    "id": "165e4a5c-1814-4061-a73a-d5ff94489f5a"
   },
   "outputs": [],
   "source": []
  }
 ],
 "metadata": {
  "colab": {
   "collapsed_sections": [
    "6e794f61-3cc8-4899-a999-858a3cf0b959"
   ],
   "name": "Copy of AnyoneAI_Sprint1_Project1.ipynb",
   "provenance": []
  },
  "kernelspec": {
   "display_name": "Python 3 (ipykernel)",
   "language": "python",
   "name": "python3"
  },
  "language_info": {
   "codemirror_mode": {
    "name": "ipython",
    "version": 3
   },
   "file_extension": ".py",
   "mimetype": "text/x-python",
   "name": "python",
   "nbconvert_exporter": "python",
   "pygments_lexer": "ipython3",
   "version": "3.8.10"
  }
 },
 "nbformat": 4,
 "nbformat_minor": 5
}
